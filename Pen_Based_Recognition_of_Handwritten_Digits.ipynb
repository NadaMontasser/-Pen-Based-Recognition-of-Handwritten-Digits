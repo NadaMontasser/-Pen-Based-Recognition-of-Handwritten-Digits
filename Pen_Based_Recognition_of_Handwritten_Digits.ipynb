{
  "nbformat": 4,
  "nbformat_minor": 0,
  "metadata": {
    "colab": {
      "provenance": []
    },
    "kernelspec": {
      "name": "python3",
      "display_name": "Python 3"
    },
    "language_info": {
      "name": "python"
    }
  },
  "cells": [
    {
      "cell_type": "code",
      "source": [
        "# Commented out IPython magic to ensure Python compatibility.\n",
        "import pandas as pd\n",
        "import numpy as np\n",
        "import sklearn as sk\n",
        "import seaborn as sns\n",
        "import matplotlib.pyplot as plt\n",
        "from sklearn.tree import DecisionTreeClassifier\n",
        "from sklearn.ensemble import BaggingClassifier\n",
        "from sklearn.svm import SVC\n",
        "from sklearn.metrics import accuracy_score\n",
        "from sklearn.metrics import classification_report\n",
        "from sklearn.ensemble import VotingClassifier\n",
        "from sklearn.ensemble import GradientBoostingClassifier\n",
        "# %matplotlib inline"
      ],
      "metadata": {
        "id": "jdhRO2k07ZM4"
      },
      "execution_count": 4,
      "outputs": []
    },
    {
      "cell_type": "markdown",
      "source": [
        "## FUN"
      ],
      "metadata": {
        "id": "yAmpWNab7bZ0"
      }
    },
    {
      "cell_type": "code",
      "source": [
        "#ploting confusion matrix\n",
        "from sklearn.metrics import confusion_matrix , ConfusionMatrixDisplay\n",
        "\n",
        "def con_matrix(model, actual, predict, title): \n",
        "  cm = confusion_matrix(actual, predict)\n",
        "  cm_display = ConfusionMatrixDisplay(cm,display_labels=model.classes_ ,).plot(cmap=plt.cm.Reds)\n",
        "  plt.title(title)\n",
        "  plt.show()\n",
        "  return cm_display"
      ],
      "metadata": {
        "id": "ROxjrVzN7d1W"
      },
      "execution_count": 5,
      "outputs": []
    },
    {
      "cell_type": "code",
      "source": [
        "def bagging(model,model_n,xtrain,ytrain,xtest,ytest): \n",
        "  bag_model = BaggingClassifier(base_estimator=model, random_state=0)\n",
        "  bag_model.fit(xtrain, ytrain)\n",
        "  y_pred = bag_model.predict(xtest)\n",
        "  acc_bag1 = accuracy_score(ytest, y_pred)\n",
        "  print('Accuracy of bagging with {1}: {0:4f} %\\n'.format(acc_bag1 *100, model_n))\n",
        "  return bag_model , y_pred"
      ],
      "metadata": {
        "id": "KsLf-fGF7fYO"
      },
      "execution_count": 6,
      "outputs": []
    },
    {
      "cell_type": "code",
      "source": [
        "def boosting(model ,xtrain, ytrain,xtest,ytest):\n",
        "  model.fit(xtrain, ytrain)\n",
        "  pred = model.predict(xtest)\n",
        "  acc = accuracy_score(ytest, pred)\n",
        "  print('Accuracy of Boosting : {0:4f} %\\n'.format(acc *100))\n",
        "  return pred"
      ],
      "metadata": {
        "id": "zxBMoPBC7jK-"
      },
      "execution_count": 7,
      "outputs": []
    },
    {
      "cell_type": "code",
      "source": [
        "def generate_random(start, end, num):\n",
        "  import random\n",
        "  random.seed(0)\n",
        "  randomlist = random.sample(range(start, end), num)\n",
        "  randomlist.sort()\n",
        "  return randomlist"
      ],
      "metadata": {
        "id": "hjHTHVk_7k1O"
      },
      "execution_count": 8,
      "outputs": []
    },
    {
      "cell_type": "code",
      "source": [
        "def generate_random_float(start, end, num):\n",
        "  import random\n",
        "  random_float_list = []\n",
        "  for i in range(0, num):\n",
        "    x = round(random.uniform(start,end), 2)\n",
        "    random_float_list.append(x)\n",
        "  random.seed(0)\n",
        "  return random_float_list"
      ],
      "metadata": {
        "id": "bc2qdxCE7m83"
      },
      "execution_count": 10,
      "outputs": []
    },
    {
      "cell_type": "code",
      "source": [
        "def results(dic):\n",
        "  df_ = pd.DataFrame({'num' : dic.keys() , 'accuracy' : dic.values() })\n",
        "  max_acc = df_['accuracy'].max()\n",
        "  max_index = df_['accuracy'].idxmax()\n",
        "  max_num = df_['num'][max_index]\n",
        "  print('The number of estimators which give max accuracy is: {0}\\n with max accuracy: {1}'.format(max_num,max_acc))\n",
        "  return pd.DataFrame(df_) , max_num"
      ],
      "metadata": {
        "id": "rdgQsUED7qqW"
      },
      "execution_count": 9,
      "outputs": []
    },
    {
      "cell_type": "markdown",
      "source": [
        "## Data"
      ],
      "metadata": {
        "id": "FEsOZ05H7tYe"
      }
    },
    {
      "cell_type": "code",
      "source": [
        "#Load the pendigits datasets\n",
        "!gdown --id 1ilWw33hGDAmn6dOR1UFLwEZM1lDj5ijG\n",
        "!gdown --id 1CJZ5i7tEJP1gXzoMeOKdyjljvpblm12y"
      ],
      "metadata": {
        "colab": {
          "base_uri": "https://localhost:8080/"
        },
        "id": "AiDzs3Kd7tKm",
        "outputId": "2843e38a-9383-4ae2-daa1-b65c41133db7"
      },
      "execution_count": 11,
      "outputs": [
        {
          "output_type": "stream",
          "name": "stdout",
          "text": [
            "/usr/local/lib/python3.8/dist-packages/gdown/cli.py:127: FutureWarning: Option `--id` was deprecated in version 4.3.1 and will be removed in 5.0. You don't need to pass it anymore to use a file ID.\n",
            "  warnings.warn(\n",
            "Downloading...\n",
            "From: https://drive.google.com/uc?id=1ilWw33hGDAmn6dOR1UFLwEZM1lDj5ijG\n",
            "To: /content/pendigits-tra.csv\n",
            "100% 502k/502k [00:00<00:00, 106MB/s]\n",
            "/usr/local/lib/python3.8/dist-packages/gdown/cli.py:127: FutureWarning: Option `--id` was deprecated in version 4.3.1 and will be removed in 5.0. You don't need to pass it anymore to use a file ID.\n",
            "  warnings.warn(\n",
            "Downloading...\n",
            "From: https://drive.google.com/uc?id=1CJZ5i7tEJP1gXzoMeOKdyjljvpblm12y\n",
            "To: /content/pendigits-tes.csv\n",
            "100% 234k/234k [00:00<00:00, 86.5MB/s]\n"
          ]
        }
      ]
    },
    {
      "cell_type": "code",
      "source": [
        "column_names=['01', '02', '03', '04','05','06', '07', '08', '09','10','11', '12', '13', '14','15','16','17']\n",
        "Train = pd.read_csv('/content/pendigits-tra.csv' ,names=column_names)\n",
        "Test = pd.read_csv('/content/pendigits-tes.csv',names=column_names)"
      ],
      "metadata": {
        "id": "JEcpoBJ97xgu"
      },
      "execution_count": 12,
      "outputs": []
    },
    {
      "cell_type": "code",
      "source": [
        "x_train = Train.iloc[:,:-1]\n",
        "y_train = Train.iloc[:,-1]\n",
        "\n",
        "x_test = Test.iloc[:,:-1]\n",
        "y_test = Test.iloc[:,-1]"
      ],
      "metadata": {
        "id": "5inNit1V7zyW"
      },
      "execution_count": 13,
      "outputs": []
    },
    {
      "cell_type": "markdown",
      "source": [
        "## Decision tree"
      ],
      "metadata": {
        "id": "0Ajb6Vft724-"
      }
    },
    {
      "cell_type": "code",
      "source": [
        "dt = DecisionTreeClassifier(random_state=2022)\n",
        "dt.fit(x_train, y_train)\n",
        "y_pred = dt.predict(x_test)\n",
        "acc = accuracy_score(y_test, y_pred)\n",
        "print('Accuracy : {} %'.format(acc *100))\n",
        "\n",
        "con_matrix(dt,y_test, y_pred,'Decision tree')"
      ],
      "metadata": {
        "colab": {
          "base_uri": "https://localhost:8080/",
          "height": 330
        },
        "id": "5LZ3nYO3745n",
        "outputId": "0ede2f1d-3ecc-426f-d478-c59348c6b2b0"
      },
      "execution_count": 14,
      "outputs": [
        {
          "output_type": "stream",
          "name": "stdout",
          "text": [
            "Accuracy : 91.59519725557462 %\n"
          ]
        },
        {
          "output_type": "display_data",
          "data": {
            "text/plain": [
              "<Figure size 432x288 with 2 Axes>"
            ],
            "image/png": "[encoded data removed]"
          },
          "metadata": {
            "needs_background": "light"
          }
        },
        {
          "output_type": "execute_result",
          "data": {
            "text/plain": [
              "<sklearn.metrics._plot.confusion_matrix.ConfusionMatrixDisplay at 0x7f1d76fe3c40>"
            ]
          },
          "metadata": {},
          "execution_count": 14
        }
      ]
    },
    {
      "cell_type": "markdown",
      "source": [
        "## Bagging"
      ],
      "metadata": {
        "id": "u9SBfdSS77zP"
      }
    },
    {
      "cell_type": "markdown",
      "source": [
        "**Bagging with SVM**"
      ],
      "metadata": {
        "id": "3D705bSG7-Fv"
      }
    },
    {
      "cell_type": "code",
      "source": [
        "SVM = SVC(random_state = 0)\n",
        "svm_bagging, svm_pred =bagging(SVM,'SVM',x_train,y_train,x_test,y_test)\n",
        "con_matrix(svm_bagging ,y_test, svm_pred,'Bagging with SVM')"
      ],
      "metadata": {
        "colab": {
          "base_uri": "https://localhost:8080/",
          "height": 347
        },
        "id": "cxK97RP58ACX",
        "outputId": "b5b4b870-1356-4384-c6f2-965c26219d0c"
      },
      "execution_count": 15,
      "outputs": [
        {
          "output_type": "stream",
          "name": "stdout",
          "text": [
            "Accuracy of bagging with SVM: 98.170383 %\n",
            "\n"
          ]
        },
        {
          "output_type": "display_data",
          "data": {
            "text/plain": [
              "<Figure size 432x288 with 2 Axes>"
            ],
            "image/png": "[encoded data removed]"
          },
          "metadata": {
            "needs_background": "light"
          }
        },
        {
          "output_type": "execute_result",
          "data": {
            "text/plain": [
              "<sklearn.metrics._plot.confusion_matrix.ConfusionMatrixDisplay at 0x7f1d6569ea30>"
            ]
          },
          "metadata": {},
          "execution_count": 15
        }
      ]
    },
    {
      "cell_type": "markdown",
      "source": [
        "**Bagging with Decision_tree**"
      ],
      "metadata": {
        "id": "6SIyuUDV8D_v"
      }
    },
    {
      "cell_type": "code",
      "source": [
        "DT = DecisionTreeClassifier(random_state = 0)\n",
        "DT_bagging, DT_pred =bagging(DT ,'DecisionTree',x_train,y_train,x_test,y_test)\n",
        "con_matrix(DT_bagging ,y_test, DT_pred ,'Bagging with DecisionTree')"
      ],
      "metadata": {
        "colab": {
          "base_uri": "https://localhost:8080/",
          "height": 347
        },
        "id": "AbRD9v-s8CC3",
        "outputId": "7734acbe-cf3b-43f3-a545-1a0418dbde88"
      },
      "execution_count": 16,
      "outputs": [
        {
          "output_type": "stream",
          "name": "stdout",
          "text": [
            "Accuracy of bagging with DecisionTree: 94.797027 %\n",
            "\n"
          ]
        },
        {
          "output_type": "display_data",
          "data": {
            "text/plain": [
              "<Figure size 432x288 with 2 Axes>"
            ],
            "image/png": "[encoded data removed]"
          },
          "metadata": {
            "needs_background": "light"
          }
        },
        {
          "output_type": "execute_result",
          "data": {
            "text/plain": [
              "<sklearn.metrics._plot.confusion_matrix.ConfusionMatrixDisplay at 0x7f1d66e62fd0>"
            ]
          },
          "metadata": {},
          "execution_count": 16
        }
      ]
    },
    {
      "cell_type": "markdown",
      "source": [
        "**Hard voting**"
      ],
      "metadata": {
        "id": "6hoeGlFR8IU5"
      }
    },
    {
      "cell_type": "code",
      "source": [
        "from pandas.core.common import random_state\n",
        "vo_clf = VotingClassifier(estimators=[('SVM', SVM), ('DecisionTree', DT)], voting='hard')\n",
        "vo_clf.fit(x_train, y_train)\n",
        "pred = vo_clf.predict(x_test)\n",
        "print('Voting Classifier Accuracy : {0:4f} %\\n'.format(accuracy_score(y_test, pred)*100))\n",
        "con_matrix(vo_clf ,y_test, pred,'Hard voting')"
      ],
      "metadata": {
        "colab": {
          "base_uri": "https://localhost:8080/",
          "height": 347
        },
        "id": "6oezjiVJ8KXX",
        "outputId": "17eb6ec3-84c4-4c30-9fe0-3c26a9daa36c"
      },
      "execution_count": 17,
      "outputs": [
        {
          "output_type": "stream",
          "name": "stdout",
          "text": [
            "Voting Classifier Accuracy : 94.053745 %\n",
            "\n"
          ]
        },
        {
          "output_type": "display_data",
          "data": {
            "text/plain": [
              "<Figure size 432x288 with 2 Axes>"
            ],
            "image/png": "[encoded data removed]"
          },
          "metadata": {
            "needs_background": "light"
          }
        },
        {
          "output_type": "execute_result",
          "data": {
            "text/plain": [
              "<sklearn.metrics._plot.confusion_matrix.ConfusionMatrixDisplay at 0x7f1d6569e9d0>"
            ]
          },
          "metadata": {},
          "execution_count": 17
        }
      ]
    },
    {
      "cell_type": "markdown",
      "source": [
        "**Best number of estimators**"
      ],
      "metadata": {
        "id": "PDB92Kfn8Mfn"
      }
    },
    {
      "cell_type": "code",
      "source": [
        "#Generate 5 random numbers between 10 and 200\n",
        "randomlist = generate_random(10, 200, 5)\n",
        "\n",
        "accuracies = {}\n",
        "for nEst in randomlist:\n",
        "  bagcls = BaggingClassifier(base_estimator=DecisionTreeClassifier(),\n",
        "                                n_estimators=nEst,random_state=0)\n",
        "  bagcls.fit(x_train, y_train)\n",
        "  e_pred = bagcls.predict(x_test)\n",
        "  acc = accuracy_score(y_test, e_pred)\n",
        "  accuracies[nEst]= acc\n",
        "\n",
        "accuracies , best_est = results(accuracies)\n",
        "\n",
        "accuracies"
      ],
      "metadata": {
        "colab": {
          "base_uri": "https://localhost:8080/",
          "height": 241
        },
        "id": "mNDwrDSa8PTX",
        "outputId": "4dec7f62-5972-430d-a418-de611139c133"
      },
      "execution_count": 18,
      "outputs": [
        {
          "output_type": "stream",
          "name": "stdout",
          "text": [
            "The number of estimators which give max accuracy is: 117\n",
            " with max accuracy: 0.9531160663236135\n"
          ]
        },
        {
          "output_type": "execute_result",
          "data": {
            "text/plain": [
              "   num  accuracy\n",
              "0   20  0.949400\n",
              "1   76  0.952544\n",
              "2  108  0.952544\n",
              "3  117  0.953116\n",
              "4  140  0.951973"
            ],
            "text/html": [
              "\n",
              "  <div id=\"df-969b8fce-b912-4e83-9aec-5f9aba42ccd2\">\n",
              "    <div class=\"colab-df-container\">\n",
              "      <div>\n",
              "<style scoped>\n",
              "    .dataframe tbody tr th:only-of-type {\n",
              "        vertical-align: middle;\n",
              "    }\n",
              "\n",
              "    .dataframe tbody tr th {\n",
              "        vertical-align: top;\n",
              "    }\n",
              "\n",
              "    .dataframe thead th {\n",
              "        text-align: right;\n",
              "    }\n",
              "</style>\n",
              "<table border=\"1\" class=\"dataframe\">\n",
              "  <thead>\n",
              "    <tr style=\"text-align: right;\">\n",
              "      <th></th>\n",
              "      <th>num</th>\n",
              "      <th>accuracy</th>\n",
              "    </tr>\n",
              "  </thead>\n",
              "  <tbody>\n",
              "    <tr>\n",
              "      <th>0</th>\n",
              "      <td>20</td>\n",
              "      <td>0.949400</td>\n",
              "    </tr>\n",
              "    <tr>\n",
              "      <th>1</th>\n",
              "      <td>76</td>\n",
              "      <td>0.952544</td>\n",
              "    </tr>\n",
              "    <tr>\n",
              "      <th>2</th>\n",
              "      <td>108</td>\n",
              "      <td>0.952544</td>\n",
              "    </tr>\n",
              "    <tr>\n",
              "      <th>3</th>\n",
              "      <td>117</td>\n",
              "      <td>0.953116</td>\n",
              "    </tr>\n",
              "    <tr>\n",
              "      <th>4</th>\n",
              "      <td>140</td>\n",
              "      <td>0.951973</td>\n",
              "    </tr>\n",
              "  </tbody>\n",
              "</table>\n",
              "</div>\n",
              "      <button class=\"colab-df-convert\" onclick=\"convertToInteractive('df-969b8fce-b912-4e83-9aec-5f9aba42ccd2')\"\n",
              "              title=\"Convert this dataframe to an interactive table.\"\n",
              "              style=\"display:none;\">\n",
              "        \n",
              "  <svg xmlns=\"http://www.w3.org/2000/svg\" height=\"24px\"viewBox=\"0 0 24 24\"\n",
              "       width=\"24px\">\n",
              "    <path d=\"M0 0h24v24H0V0z\" fill=\"none\"/>\n",
              "    <path d=\"M18.56 5.44l.94 2.06.94-2.06 2.06-.94-2.06-.94-.94-2.06-.94 2.06-2.06.94zm-11 1L8.5 8.5l.94-2.06 2.06-.94-2.06-.94L8.5 2.5l-.94 2.06-2.06.94zm10 10l.94 2.06.94-2.06 2.06-.94-2.06-.94-.94-2.06-.94 2.06-2.06.94z\"/><path d=\"M17.41 7.96l-1.37-1.37c-.4-.4-.92-.59-1.43-.59-.52 0-1.04.2-1.43.59L10.3 9.45l-7.72 7.72c-.78.78-.78 2.05 0 2.83L4 21.41c.39.39.9.59 1.41.59.51 0 1.02-.2 1.41-.59l7.78-7.78 2.81-2.81c.8-.78.8-2.07 0-2.86zM5.41 20L4 18.59l7.72-7.72 1.47 1.35L5.41 20z\"/>\n",
              "  </svg>\n",
              "      </button>\n",
              "      \n",
              "  <style>\n",
              "    .colab-df-container {\n",
              "      display:flex;\n",
              "      flex-wrap:wrap;\n",
              "      gap: 12px;\n",
              "    }\n",
              "\n",
              "    .colab-df-convert {\n",
              "      background-color: #E8F0FE;\n",
              "      border: none;\n",
              "      border-radius: 50%;\n",
              "      cursor: pointer;\n",
              "      display: none;\n",
              "      fill: #1967D2;\n",
              "      height: 32px;\n",
              "      padding: 0 0 0 0;\n",
              "      width: 32px;\n",
              "    }\n",
              "\n",
              "    .colab-df-convert:hover {\n",
              "      background-color: #E2EBFA;\n",
              "      box-shadow: 0px 1px 2px rgba(60, 64, 67, 0.3), 0px 1px 3px 1px rgba(60, 64, 67, 0.15);\n",
              "      fill: #174EA6;\n",
              "    }\n",
              "\n",
              "    [theme=dark] .colab-df-convert {\n",
              "      background-color: #3B4455;\n",
              "      fill: #D2E3FC;\n",
              "    }\n",
              "\n",
              "    [theme=dark] .colab-df-convert:hover {\n",
              "      background-color: #434B5C;\n",
              "      box-shadow: 0px 1px 3px 1px rgba(0, 0, 0, 0.15);\n",
              "      filter: drop-shadow(0px 1px 2px rgba(0, 0, 0, 0.3));\n",
              "      fill: #FFFFFF;\n",
              "    }\n",
              "  </style>\n",
              "\n",
              "      <script>\n",
              "        const buttonEl =\n",
              "          document.querySelector('#df-969b8fce-b912-4e83-9aec-5f9aba42ccd2 button.colab-df-convert');\n",
              "        buttonEl.style.display =\n",
              "          google.colab.kernel.accessAllowed ? 'block' : 'none';\n",
              "\n",
              "        async function convertToInteractive(key) {\n",
              "          const element = document.querySelector('#df-969b8fce-b912-4e83-9aec-5f9aba42ccd2');\n",
              "          const dataTable =\n",
              "            await google.colab.kernel.invokeFunction('convertToInteractive',\n",
              "                                                     [key], {});\n",
              "          if (!dataTable) return;\n",
              "\n",
              "          const docLinkHtml = 'Like what you see? Visit the ' +\n",
              "            '<a target=\"_blank\" href=https://colab.research.google.com/notebooks/data_table.ipynb>data table notebook</a>'\n",
              "            + ' to learn more about interactive tables.';\n",
              "          element.innerHTML = '';\n",
              "          dataTable['output_type'] = 'display_data';\n",
              "          await google.colab.output.renderOutput(dataTable, element);\n",
              "          const docLink = document.createElement('div');\n",
              "          docLink.innerHTML = docLinkHtml;\n",
              "          element.appendChild(docLink);\n",
              "        }\n",
              "      </script>\n",
              "    </div>\n",
              "  </div>\n",
              "  "
            ]
          },
          "metadata": {},
          "execution_count": 18
        }
      ]
    },
    {
      "cell_type": "code",
      "source": [
        "fig = plt.figure(figsize = (10, 5))\n",
        "plt.plot(accuracies['num'], accuracies['accuracy'] , label = \"accuracy\", \n",
        "         color='maroon', linestyle='dashed', linewidth = 1, marker='o', markerfacecolor='blue', markersize=12)\n",
        "plt.title('accuracy vs. number of estimators')\n",
        "plt.xlabel('nEst')\n",
        "plt.ylabel('accuracy score')\n",
        "plt.legend()\n",
        "plt.show()"
      ],
      "metadata": {
        "colab": {
          "base_uri": "https://localhost:8080/",
          "height": 350
        },
        "id": "aeWdg9A88RaX",
        "outputId": "f68b25bb-bf7d-4d28-8559-c82d7f30c926"
      },
      "execution_count": 19,
      "outputs": [
        {
          "output_type": "display_data",
          "data": {
            "text/plain": [
              "<Figure size 720x360 with 1 Axes>"
            ],
            "image/png": "[encoded data removed]"
          },
          "metadata": {
            "needs_background": "light"
          }
        }
      ]
    },
    {
      "cell_type": "markdown",
      "source": [
        "## Boosting"
      ],
      "metadata": {
        "id": "GKxO8R9D8T5_"
      }
    },
    {
      "cell_type": "markdown",
      "source": [
        "**Find best number of estimators in this range [10 : 200]**"
      ],
      "metadata": {
        "id": "dTNvUcnX8Ww_"
      }
    },
    {
      "cell_type": "code",
      "source": [
        "#Generate 4 random numbers between 10 and 200\n",
        "random_estimators = generate_random(10, 200, 4)\n",
        "accurac1 = {}\n",
        "for nEst1 in random_estimators:\n",
        "  boostcls = GradientBoostingClassifier(n_estimators= nEst1,random_state = 0)\n",
        "  boostcls.fit(x_train, y_train)\n",
        "  pred_b1 = boostcls.predict(x_test)\n",
        "  acc_1 = accuracy_score(y_test, pred_b1)\n",
        "  accurac1[nEst1]= acc_1\n",
        "accurac1 , best_estimator = results(accurac1)\n",
        "\n",
        "accurac1"
      ],
      "metadata": {
        "colab": {
          "base_uri": "https://localhost:8080/",
          "height": 209
        },
        "id": "9wD4s8mP8TrP",
        "outputId": "f8ac245e-1eed-46c1-eaf0-999244386ae3"
      },
      "execution_count": 20,
      "outputs": [
        {
          "output_type": "stream",
          "name": "stdout",
          "text": [
            "The number of estimators which give max accuracy is: 108\n",
            " with max accuracy: 0.9628359062321327\n"
          ]
        },
        {
          "output_type": "execute_result",
          "data": {
            "text/plain": [
              "   num  accuracy\n",
              "0   20  0.903087\n",
              "1   76  0.959691\n",
              "2  108  0.962836\n",
              "3  117  0.960835"
            ],
            "text/html": [
              "\n",
              "  <div id=\"df-b7403a19-8e0f-4fa2-a88c-088a071ab7ee\">\n",
              "    <div class=\"colab-df-container\">\n",
              "      <div>\n",
              "<style scoped>\n",
              "    .dataframe tbody tr th:only-of-type {\n",
              "        vertical-align: middle;\n",
              "    }\n",
              "\n",
              "    .dataframe tbody tr th {\n",
              "        vertical-align: top;\n",
              "    }\n",
              "\n",
              "    .dataframe thead th {\n",
              "        text-align: right;\n",
              "    }\n",
              "</style>\n",
              "<table border=\"1\" class=\"dataframe\">\n",
              "  <thead>\n",
              "    <tr style=\"text-align: right;\">\n",
              "      <th></th>\n",
              "      <th>num</th>\n",
              "      <th>accuracy</th>\n",
              "    </tr>\n",
              "  </thead>\n",
              "  <tbody>\n",
              "    <tr>\n",
              "      <th>0</th>\n",
              "      <td>20</td>\n",
              "      <td>0.903087</td>\n",
              "    </tr>\n",
              "    <tr>\n",
              "      <th>1</th>\n",
              "      <td>76</td>\n",
              "      <td>0.959691</td>\n",
              "    </tr>\n",
              "    <tr>\n",
              "      <th>2</th>\n",
              "      <td>108</td>\n",
              "      <td>0.962836</td>\n",
              "    </tr>\n",
              "    <tr>\n",
              "      <th>3</th>\n",
              "      <td>117</td>\n",
              "      <td>0.960835</td>\n",
              "    </tr>\n",
              "  </tbody>\n",
              "</table>\n",
              "</div>\n",
              "      <button class=\"colab-df-convert\" onclick=\"convertToInteractive('df-b7403a19-8e0f-4fa2-a88c-088a071ab7ee')\"\n",
              "              title=\"Convert this dataframe to an interactive table.\"\n",
              "              style=\"display:none;\">\n",
              "        \n",
              "  <svg xmlns=\"http://www.w3.org/2000/svg\" height=\"24px\"viewBox=\"0 0 24 24\"\n",
              "       width=\"24px\">\n",
              "    <path d=\"M0 0h24v24H0V0z\" fill=\"none\"/>\n",
              "    <path d=\"M18.56 5.44l.94 2.06.94-2.06 2.06-.94-2.06-.94-.94-2.06-.94 2.06-2.06.94zm-11 1L8.5 8.5l.94-2.06 2.06-.94-2.06-.94L8.5 2.5l-.94 2.06-2.06.94zm10 10l.94 2.06.94-2.06 2.06-.94-2.06-.94-.94-2.06-.94 2.06-2.06.94z\"/><path d=\"M17.41 7.96l-1.37-1.37c-.4-.4-.92-.59-1.43-.59-.52 0-1.04.2-1.43.59L10.3 9.45l-7.72 7.72c-.78.78-.78 2.05 0 2.83L4 21.41c.39.39.9.59 1.41.59.51 0 1.02-.2 1.41-.59l7.78-7.78 2.81-2.81c.8-.78.8-2.07 0-2.86zM5.41 20L4 18.59l7.72-7.72 1.47 1.35L5.41 20z\"/>\n",
              "  </svg>\n",
              "      </button>\n",
              "      \n",
              "  <style>\n",
              "    .colab-df-container {\n",
              "      display:flex;\n",
              "      flex-wrap:wrap;\n",
              "      gap: 12px;\n",
              "    }\n",
              "\n",
              "    .colab-df-convert {\n",
              "      background-color: #E8F0FE;\n",
              "      border: none;\n",
              "      border-radius: 50%;\n",
              "      cursor: pointer;\n",
              "      display: none;\n",
              "      fill: #1967D2;\n",
              "      height: 32px;\n",
              "      padding: 0 0 0 0;\n",
              "      width: 32px;\n",
              "    }\n",
              "\n",
              "    .colab-df-convert:hover {\n",
              "      background-color: #E2EBFA;\n",
              "      box-shadow: 0px 1px 2px rgba(60, 64, 67, 0.3), 0px 1px 3px 1px rgba(60, 64, 67, 0.15);\n",
              "      fill: #174EA6;\n",
              "    }\n",
              "\n",
              "    [theme=dark] .colab-df-convert {\n",
              "      background-color: #3B4455;\n",
              "      fill: #D2E3FC;\n",
              "    }\n",
              "\n",
              "    [theme=dark] .colab-df-convert:hover {\n",
              "      background-color: #434B5C;\n",
              "      box-shadow: 0px 1px 3px 1px rgba(0, 0, 0, 0.15);\n",
              "      filter: drop-shadow(0px 1px 2px rgba(0, 0, 0, 0.3));\n",
              "      fill: #FFFFFF;\n",
              "    }\n",
              "  </style>\n",
              "\n",
              "      <script>\n",
              "        const buttonEl =\n",
              "          document.querySelector('#df-b7403a19-8e0f-4fa2-a88c-088a071ab7ee button.colab-df-convert');\n",
              "        buttonEl.style.display =\n",
              "          google.colab.kernel.accessAllowed ? 'block' : 'none';\n",
              "\n",
              "        async function convertToInteractive(key) {\n",
              "          const element = document.querySelector('#df-b7403a19-8e0f-4fa2-a88c-088a071ab7ee');\n",
              "          const dataTable =\n",
              "            await google.colab.kernel.invokeFunction('convertToInteractive',\n",
              "                                                     [key], {});\n",
              "          if (!dataTable) return;\n",
              "\n",
              "          const docLinkHtml = 'Like what you see? Visit the ' +\n",
              "            '<a target=\"_blank\" href=https://colab.research.google.com/notebooks/data_table.ipynb>data table notebook</a>'\n",
              "            + ' to learn more about interactive tables.';\n",
              "          element.innerHTML = '';\n",
              "          dataTable['output_type'] = 'display_data';\n",
              "          await google.colab.output.renderOutput(dataTable, element);\n",
              "          const docLink = document.createElement('div');\n",
              "          docLink.innerHTML = docLinkHtml;\n",
              "          element.appendChild(docLink);\n",
              "        }\n",
              "      </script>\n",
              "    </div>\n",
              "  </div>\n",
              "  "
            ]
          },
          "metadata": {},
          "execution_count": 20
        }
      ]
    },
    {
      "cell_type": "markdown",
      "source": [
        "**Find best learning rate in this range [0.1 : 0.9]**"
      ],
      "metadata": {
        "id": "BXzUEEcr8cnP"
      }
    },
    {
      "cell_type": "code",
      "source": [
        "#Generate 4 random numbers between 0.1 and 0.9\n",
        "random_rates = generate_random_float (0.1, 0.9, 4)\n",
        "accurac2 = {}\n",
        "for learning_rate in random_rates:\n",
        "    boostcls1 = GradientBoostingClassifier(n_estimators= best_estimator, learning_rate = learning_rate,random_state = 0)\n",
        "    boostcls1.fit(x_train, y_train)\n",
        "    pred_b2 = boostcls1.predict(x_test)\n",
        "    acc_2 = accuracy_score(y_test, pred_b1)\n",
        "    accurac2[learning_rate]= acc_2\n",
        "accurac2 , best_rate = results(accurac2)\n",
        "\n",
        "accurac2"
      ],
      "metadata": {
        "colab": {
          "base_uri": "https://localhost:8080/",
          "height": 209
        },
        "id": "NjD2_wyc8eI_",
        "outputId": "a03fb60e-c8de-4370-d85d-dd6f9e9fbc0c"
      },
      "execution_count": 21,
      "outputs": [
        {
          "output_type": "stream",
          "name": "stdout",
          "text": [
            "The number of estimators which give max accuracy is: 0.87\n",
            " with max accuracy: 0.9608347627215552\n"
          ]
        },
        {
          "output_type": "execute_result",
          "data": {
            "text/plain": [
              "    num  accuracy\n",
              "0  0.87  0.960835\n",
              "1  0.49  0.960835\n",
              "2  0.83  0.960835\n",
              "3  0.76  0.960835"
            ],
            "text/html": [
              "\n",
              "  <div id=\"df-d7df598b-a426-43b4-bbdd-4650ff1ff45b\">\n",
              "    <div class=\"colab-df-container\">\n",
              "      <div>\n",
              "<style scoped>\n",
              "    .dataframe tbody tr th:only-of-type {\n",
              "        vertical-align: middle;\n",
              "    }\n",
              "\n",
              "    .dataframe tbody tr th {\n",
              "        vertical-align: top;\n",
              "    }\n",
              "\n",
              "    .dataframe thead th {\n",
              "        text-align: right;\n",
              "    }\n",
              "</style>\n",
              "<table border=\"1\" class=\"dataframe\">\n",
              "  <thead>\n",
              "    <tr style=\"text-align: right;\">\n",
              "      <th></th>\n",
              "      <th>num</th>\n",
              "      <th>accuracy</th>\n",
              "    </tr>\n",
              "  </thead>\n",
              "  <tbody>\n",
              "    <tr>\n",
              "      <th>0</th>\n",
              "      <td>0.87</td>\n",
              "      <td>0.960835</td>\n",
              "    </tr>\n",
              "    <tr>\n",
              "      <th>1</th>\n",
              "      <td>0.49</td>\n",
              "      <td>0.960835</td>\n",
              "    </tr>\n",
              "    <tr>\n",
              "      <th>2</th>\n",
              "      <td>0.83</td>\n",
              "      <td>0.960835</td>\n",
              "    </tr>\n",
              "    <tr>\n",
              "      <th>3</th>\n",
              "      <td>0.76</td>\n",
              "      <td>0.960835</td>\n",
              "    </tr>\n",
              "  </tbody>\n",
              "</table>\n",
              "</div>\n",
              "      <button class=\"colab-df-convert\" onclick=\"convertToInteractive('df-d7df598b-a426-43b4-bbdd-4650ff1ff45b')\"\n",
              "              title=\"Convert this dataframe to an interactive table.\"\n",
              "              style=\"display:none;\">\n",
              "        \n",
              "  <svg xmlns=\"http://www.w3.org/2000/svg\" height=\"24px\"viewBox=\"0 0 24 24\"\n",
              "       width=\"24px\">\n",
              "    <path d=\"M0 0h24v24H0V0z\" fill=\"none\"/>\n",
              "    <path d=\"M18.56 5.44l.94 2.06.94-2.06 2.06-.94-2.06-.94-.94-2.06-.94 2.06-2.06.94zm-11 1L8.5 8.5l.94-2.06 2.06-.94-2.06-.94L8.5 2.5l-.94 2.06-2.06.94zm10 10l.94 2.06.94-2.06 2.06-.94-2.06-.94-.94-2.06-.94 2.06-2.06.94z\"/><path d=\"M17.41 7.96l-1.37-1.37c-.4-.4-.92-.59-1.43-.59-.52 0-1.04.2-1.43.59L10.3 9.45l-7.72 7.72c-.78.78-.78 2.05 0 2.83L4 21.41c.39.39.9.59 1.41.59.51 0 1.02-.2 1.41-.59l7.78-7.78 2.81-2.81c.8-.78.8-2.07 0-2.86zM5.41 20L4 18.59l7.72-7.72 1.47 1.35L5.41 20z\"/>\n",
              "  </svg>\n",
              "      </button>\n",
              "      \n",
              "  <style>\n",
              "    .colab-df-container {\n",
              "      display:flex;\n",
              "      flex-wrap:wrap;\n",
              "      gap: 12px;\n",
              "    }\n",
              "\n",
              "    .colab-df-convert {\n",
              "      background-color: #E8F0FE;\n",
              "      border: none;\n",
              "      border-radius: 50%;\n",
              "      cursor: pointer;\n",
              "      display: none;\n",
              "      fill: #1967D2;\n",
              "      height: 32px;\n",
              "      padding: 0 0 0 0;\n",
              "      width: 32px;\n",
              "    }\n",
              "\n",
              "    .colab-df-convert:hover {\n",
              "      background-color: #E2EBFA;\n",
              "      box-shadow: 0px 1px 2px rgba(60, 64, 67, 0.3), 0px 1px 3px 1px rgba(60, 64, 67, 0.15);\n",
              "      fill: #174EA6;\n",
              "    }\n",
              "\n",
              "    [theme=dark] .colab-df-convert {\n",
              "      background-color: #3B4455;\n",
              "      fill: #D2E3FC;\n",
              "    }\n",
              "\n",
              "    [theme=dark] .colab-df-convert:hover {\n",
              "      background-color: #434B5C;\n",
              "      box-shadow: 0px 1px 3px 1px rgba(0, 0, 0, 0.15);\n",
              "      filter: drop-shadow(0px 1px 2px rgba(0, 0, 0, 0.3));\n",
              "      fill: #FFFFFF;\n",
              "    }\n",
              "  </style>\n",
              "\n",
              "      <script>\n",
              "        const buttonEl =\n",
              "          document.querySelector('#df-d7df598b-a426-43b4-bbdd-4650ff1ff45b button.colab-df-convert');\n",
              "        buttonEl.style.display =\n",
              "          google.colab.kernel.accessAllowed ? 'block' : 'none';\n",
              "\n",
              "        async function convertToInteractive(key) {\n",
              "          const element = document.querySelector('#df-d7df598b-a426-43b4-bbdd-4650ff1ff45b');\n",
              "          const dataTable =\n",
              "            await google.colab.kernel.invokeFunction('convertToInteractive',\n",
              "                                                     [key], {});\n",
              "          if (!dataTable) return;\n",
              "\n",
              "          const docLinkHtml = 'Like what you see? Visit the ' +\n",
              "            '<a target=\"_blank\" href=https://colab.research.google.com/notebooks/data_table.ipynb>data table notebook</a>'\n",
              "            + ' to learn more about interactive tables.';\n",
              "          element.innerHTML = '';\n",
              "          dataTable['output_type'] = 'display_data';\n",
              "          await google.colab.output.renderOutput(dataTable, element);\n",
              "          const docLink = document.createElement('div');\n",
              "          docLink.innerHTML = docLinkHtml;\n",
              "          element.appendChild(docLink);\n",
              "        }\n",
              "      </script>\n",
              "    </div>\n",
              "  </div>\n",
              "  "
            ]
          },
          "metadata": {},
          "execution_count": 21
        }
      ]
    },
    {
      "cell_type": "markdown",
      "source": [
        "**Applaying GradientBoostingClassifier with best n_estimators**"
      ],
      "metadata": {
        "id": "QvFu0v3k8gT3"
      }
    },
    {
      "cell_type": "code",
      "source": [
        "gb0 = GradientBoostingClassifier(n_estimators= 108 ,random_state = 0)\n",
        "pred_0 = boosting(gb0 ,x_train, y_train,x_test,y_test )\n",
        "con_matrix(gb0 ,y_test, pred_0 ,'boosting with best estimators')\n"
      ],
      "metadata": {
        "colab": {
          "base_uri": "https://localhost:8080/",
          "height": 347
        },
        "id": "zEkWGCY18gB_",
        "outputId": "7afc0e3f-4d4f-4741-eaca-3f04965e6310"
      },
      "execution_count": 22,
      "outputs": [
        {
          "output_type": "stream",
          "name": "stdout",
          "text": [
            "Accuracy of Boosting : 96.283591 %\n",
            "\n"
          ]
        },
        {
          "output_type": "display_data",
          "data": {
            "text/plain": [
              "<Figure size 432x288 with 2 Axes>"
            ],
            "image/png": "[encoded data removed]"
          },
          "metadata": {
            "needs_background": "light"
          }
        },
        {
          "output_type": "execute_result",
          "data": {
            "text/plain": [
              "<sklearn.metrics._plot.confusion_matrix.ConfusionMatrixDisplay at 0x7f1d66c34f10>"
            ]
          },
          "metadata": {},
          "execution_count": 22
        }
      ]
    },
    {
      "cell_type": "markdown",
      "source": [
        "# **xgboost Model**"
      ],
      "metadata": {
        "id": "SD2zCBVe8kT_"
      }
    },
    {
      "cell_type": "code",
      "execution_count": 23,
      "metadata": {
        "colab": {
          "base_uri": "https://localhost:8080/",
          "height": 347
        },
        "id": "Q6HTT4xn7UwE",
        "outputId": "4926d552-8004-4e45-bc87-1ddcc4887480"
      },
      "outputs": [
        {
          "output_type": "stream",
          "name": "stdout",
          "text": [
            "Accuracy of xgboost : 96.512293 %\n",
            "\n"
          ]
        },
        {
          "output_type": "display_data",
          "data": {
            "text/plain": [
              "<Figure size 432x288 with 2 Axes>"
            ],
            "image/png": "[encoded data removed]"
          },
          "metadata": {
            "needs_background": "light"
          }
        },
        {
          "output_type": "execute_result",
          "data": {
            "text/plain": [
              "<sklearn.metrics._plot.confusion_matrix.ConfusionMatrixDisplay at 0x7f1d64f05580>"
            ]
          },
          "metadata": {},
          "execution_count": 23
        }
      ],
      "source": [
        "import xgboost as xgb\n",
        "xgb_ = xgb.XGBClassifier(objective=\"reg:logistic\", n_estimators= best_estimator, learning_rate= best_rate, random_state=0)\n",
        "xgb_.fit(x_train, y_train)\n",
        "y_predxgb = xgb_.predict(x_test)\n",
        "acc_xgb = accuracy_score(y_test, y_predxgb)\n",
        "print('Accuracy of xgboost : {0:4f} %\\n'.format(acc_xgb *100))\n",
        "con_matrix(xgb_ ,y_test, y_predxgb ,'xgboost')"
      ]
    },
    {
      "cell_type": "code",
      "source": [],
      "metadata": {
        "id": "QNXTZNuD8pAq"
      },
      "execution_count": null,
      "outputs": []
    }
  ]
}